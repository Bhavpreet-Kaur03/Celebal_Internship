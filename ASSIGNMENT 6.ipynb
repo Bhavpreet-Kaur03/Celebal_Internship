{
 "cells": [
  {
   "cell_type": "code",
   "execution_count": 3,
   "id": "a2c47b5c",
   "metadata": {},
   "outputs": [],
   "source": [
    "import pandas as pd\n",
    "import numpy as np\n",
    "from sklearn.model_selection import train_test_split, GridSearchCV, RandomizedSearchCV\n",
    "from sklearn.preprocessing import StandardScaler\n",
    "from sklearn.linear_model import LogisticRegression\n",
    "from sklearn.ensemble import RandomForestClassifier\n",
    "from sklearn.svm import SVC\n",
    "from sklearn.metrics import accuracy_score, precision_score, recall_score, f1_score, classification_report"
   ]
  },
  {
   "cell_type": "code",
   "execution_count": 5,
   "id": "5d10c399",
   "metadata": {},
   "outputs": [
    {
     "name": "stdout",
     "output_type": "stream",
     "text": [
      "Dataset shape: (1000, 16)\n"
     ]
    }
   ],
   "source": [
    "df = pd.read_csv(r\"C:\\Users\\Lenovo\\Downloads\\EDA HEART\\heart_disease_dataset.csv\")\n",
    "print(\"Dataset shape:\", df.shape)"
   ]
  },
  {
   "cell_type": "code",
   "execution_count": 6,
   "id": "eabecf93",
   "metadata": {},
   "outputs": [],
   "source": [
    "X = df.drop('Heart Disease', axis=1)\n",
    "y = df['Heart Disease']"
   ]
  },
  {
   "cell_type": "code",
   "execution_count": 9,
   "id": "4fa73145",
   "metadata": {},
   "outputs": [],
   "source": [
    "X_encoded = pd.get_dummies(X)"
   ]
  },
  {
   "cell_type": "code",
   "execution_count": 10,
   "id": "a60be55f",
   "metadata": {},
   "outputs": [],
   "source": [
    "X_train, X_test, y_train, y_test = train_test_split(X_encoded, y, test_size=0.2, random_state=42, stratify=y)\n"
   ]
  },
  {
   "cell_type": "code",
   "execution_count": 11,
   "id": "0692db40",
   "metadata": {},
   "outputs": [],
   "source": [
    "scaler = StandardScaler()\n",
    "X_train_scaled = scaler.fit_transform(X_train)\n",
    "X_test_scaled = scaler.transform(X_test)"
   ]
  },
  {
   "cell_type": "code",
   "execution_count": 12,
   "id": "ddcaeb38",
   "metadata": {},
   "outputs": [],
   "source": [
    "models = {\n",
    "    \"Logistic Regression\": LogisticRegression(),\n",
    "    \"Random Forest\": RandomForestClassifier(),\n",
    "    \"SVM\": SVC()\n",
    "}"
   ]
  },
  {
   "cell_type": "code",
   "execution_count": 13,
   "id": "d82cff16",
   "metadata": {},
   "outputs": [
    {
     "name": "stdout",
     "output_type": "stream",
     "text": [
      "\n",
      "=== Initial Model Evaluation ===\n",
      "\n",
      "Logistic Regression Report:\n",
      "              precision    recall  f1-score   support\n",
      "\n",
      "           0       0.87      0.91      0.89       122\n",
      "           1       0.85      0.78      0.81        78\n",
      "\n",
      "    accuracy                           0.86       200\n",
      "   macro avg       0.86      0.85      0.85       200\n",
      "weighted avg       0.86      0.86      0.86       200\n",
      "\n",
      "\n",
      "Random Forest Report:\n",
      "              precision    recall  f1-score   support\n",
      "\n",
      "           0       0.98      1.00      0.99       122\n",
      "           1       1.00      0.97      0.99        78\n",
      "\n",
      "    accuracy                           0.99       200\n",
      "   macro avg       0.99      0.99      0.99       200\n",
      "weighted avg       0.99      0.99      0.99       200\n",
      "\n",
      "\n",
      "SVM Report:\n",
      "              precision    recall  f1-score   support\n",
      "\n",
      "           0       0.87      0.94      0.91       122\n",
      "           1       0.90      0.78      0.84        78\n",
      "\n",
      "    accuracy                           0.88       200\n",
      "   macro avg       0.88      0.86      0.87       200\n",
      "weighted avg       0.88      0.88      0.88       200\n",
      "\n"
     ]
    }
   ],
   "source": [
    "print(\"\\n=== Initial Model Evaluation ===\")\n",
    "for name, model in models.items():\n",
    "    model.fit(X_train_scaled, y_train)\n",
    "    y_pred = model.predict(X_test_scaled)\n",
    "    print(f\"\\n{name} Report:\")\n",
    "    print(classification_report(y_test, y_pred))"
   ]
  },
  {
   "cell_type": "code",
   "execution_count": 14,
   "id": "5aa6215d",
   "metadata": {},
   "outputs": [],
   "source": [
    "param_grid_lr = {\n",
    "    'C': [0.01, 0.1, 1, 10],\n",
    "    'penalty': ['l2'],\n",
    "    'solver': ['liblinear', 'lbfgs']\n",
    "}\n",
    "grid_lr = GridSearchCV(LogisticRegression(), param_grid_lr, cv=5, scoring='f1', n_jobs=-1)\n",
    "grid_lr.fit(X_train_scaled, y_train)\n",
    "best_lr = grid_lr.best_estimator_"
   ]
  },
  {
   "cell_type": "code",
   "execution_count": 15,
   "id": "82f84097",
   "metadata": {},
   "outputs": [],
   "source": [
    "param_dist_rf = {\n",
    "    'n_estimators': [50, 100, 150],\n",
    "    'max_depth': [None, 5, 10, 20],\n",
    "    'min_samples_split': [2, 5, 10],\n",
    "    'max_features': ['sqrt', 'log2']\n",
    "}\n",
    "random_rf = RandomizedSearchCV(RandomForestClassifier(), param_distributions=param_dist_rf,\n",
    "                               n_iter=10, cv=5, scoring='f1', n_jobs=-1, random_state=42)\n",
    "random_rf.fit(X_train_scaled, y_train)\n",
    "best_rf = random_rf.best_estimator_"
   ]
  },
  {
   "cell_type": "code",
   "execution_count": 16,
   "id": "c9bf1b80",
   "metadata": {},
   "outputs": [],
   "source": [
    "param_grid_svm = {\n",
    "    'C': [0.1, 1, 10],\n",
    "    'kernel': ['linear', 'rbf'],\n",
    "    'gamma': ['scale', 'auto']\n",
    "}\n",
    "grid_svm = GridSearchCV(SVC(), param_grid_svm, cv=5, scoring='f1', n_jobs=-1)\n",
    "grid_svm.fit(X_train_scaled, y_train)\n",
    "best_svm = grid_svm.best_estimator_"
   ]
  },
  {
   "cell_type": "code",
   "execution_count": 17,
   "id": "72db58c4",
   "metadata": {},
   "outputs": [
    {
     "name": "stdout",
     "output_type": "stream",
     "text": [
      "\n",
      "Logistic Regression (Tuned):\n",
      "Accuracy: 0.8650\n",
      "Precision: 0.8493\n",
      "Recall: 0.7949\n",
      "F1 Score: 0.8212\n",
      "\n",
      "Random Forest (Tuned):\n",
      "Accuracy: 0.9950\n",
      "Precision: 1.0000\n",
      "Recall: 0.9872\n",
      "F1 Score: 0.9935\n",
      "\n",
      "SVM (Tuned):\n",
      "Accuracy: 0.8800\n",
      "Precision: 0.8553\n",
      "Recall: 0.8333\n",
      "F1 Score: 0.8442\n"
     ]
    }
   ],
   "source": [
    "def evaluate_model(name, model):\n",
    "    y_pred = model.predict(X_test_scaled)\n",
    "    acc = accuracy_score(y_test, y_pred)\n",
    "    prec = precision_score(y_test, y_pred)\n",
    "    rec = recall_score(y_test, y_pred)\n",
    "    f1 = f1_score(y_test, y_pred)\n",
    "    print(f\"\\n{name}:\")\n",
    "    print(f\"Accuracy: {acc:.4f}\")\n",
    "    print(f\"Precision: {prec:.4f}\")\n",
    "    print(f\"Recall: {rec:.4f}\")\n",
    "    print(f\"F1 Score: {f1:.4f}\")\n",
    "    return [name, acc, prec, rec, f1]\n",
    "\n",
    "results = []\n",
    "results.append(evaluate_model(\"Logistic Regression (Tuned)\", best_lr))\n",
    "results.append(evaluate_model(\"Random Forest (Tuned)\", best_rf))\n",
    "results.append(evaluate_model(\"SVM (Tuned)\", best_svm))"
   ]
  },
  {
   "cell_type": "code",
   "execution_count": 18,
   "id": "d093aebb",
   "metadata": {},
   "outputs": [
    {
     "name": "stdout",
     "output_type": "stream",
     "text": [
      "\n",
      "=== Final Model Comparison ===\n",
      "                         Model  Accuracy  Precision    Recall  F1 Score\n",
      "1        Random Forest (Tuned)     0.995   1.000000  0.987179  0.993548\n",
      "2                  SVM (Tuned)     0.880   0.855263  0.833333  0.844156\n",
      "0  Logistic Regression (Tuned)     0.865   0.849315  0.794872  0.821192\n"
     ]
    }
   ],
   "source": [
    "results_df = pd.DataFrame(results, columns=[\"Model\", \"Accuracy\", \"Precision\", \"Recall\", \"F1 Score\"])\n",
    "print(\"\\n=== Final Model Comparison ===\")\n",
    "print(results_df.sort_values(by=\"F1 Score\", ascending=False))"
   ]
  },
  {
   "cell_type": "code",
   "execution_count": 19,
   "id": "d933349d",
   "metadata": {},
   "outputs": [],
   "source": [
    "import matplotlib.pyplot as plt\n",
    "import seaborn as sns\n"
   ]
  },
  {
   "cell_type": "code",
   "execution_count": 20,
   "id": "26823068",
   "metadata": {},
   "outputs": [
    {
     "data": {
      "image/png": "[encoded data removed]",
      "text/plain": [
       "<Figure size 1200x600 with 1 Axes>"
      ]
     },
     "metadata": {},
     "output_type": "display_data"
    }
   ],
   "source": [
    "def get_metrics(model, name):\n",
    "    y_pred = model.predict(X_test_scaled)\n",
    "    return {\n",
    "        \"Model\": name,\n",
    "        \"Accuracy\": accuracy_score(y_test, y_pred),\n",
    "        \"Precision\": precision_score(y_test, y_pred),\n",
    "        \"Recall\": recall_score(y_test, y_pred),\n",
    "        \"F1 Score\": f1_score(y_test, y_pred)\n",
    "    }\n",
    "\n",
    "base_results = [\n",
    "    get_metrics(models[\"Logistic Regression\"], \"LogReg (Base)\"),\n",
    "    get_metrics(models[\"Random Forest\"], \"RandomForest (Base)\"),\n",
    "    get_metrics(models[\"SVM\"], \"SVM (Base)\")\n",
    "]\n",
    "\n",
    "tuned_results = [\n",
    "    get_metrics(best_lr, \"LogReg (Tuned)\"),\n",
    "    get_metrics(best_rf, \"RandomForest (Tuned)\"),\n",
    "    get_metrics(best_svm, \"SVM (Tuned)\")\n",
    "]\n",
    "\n",
    "combined_df = pd.DataFrame(base_results + tuned_results)\n",
    "\n",
    "df_melted = pd.melt(combined_df, id_vars=\"Model\", var_name=\"Metric\", value_name=\"Score\")\n",
    "\n",
    "plt.figure(figsize=(12, 6))\n",
    "sns.barplot(data=df_melted, x=\"Metric\", y=\"Score\", hue=\"Model\")\n",
    "plt.title(\"Model Performance Comparison: Before vs After Tuning\")\n",
    "plt.ylim(0, 1.1)\n",
    "plt.legend(loc='lower right')\n",
    "plt.tight_layout()\n",
    "plt.show()"
   ]
  },
  {
   "cell_type": "code",
   "execution_count": null,
   "id": "71f11ee7",
   "metadata": {},
   "outputs": [],
   "source": []
  }
 ],
 "metadata": {
  "kernelspec": {
   "display_name": "Python 3 (ipykernel)",
   "language": "python",
   "name": "python3"
  },
  "language_info": {
   "codemirror_mode": {
    "name": "ipython",
    "version": 3
   },
   "file_extension": ".py",
   "mimetype": "text/x-python",
   "name": "python",
   "nbconvert_exporter": "python",
   "pygments_lexer": "ipython3",
   "version": "3.11.4"
  }
 },
 "nbformat": 4,
 "nbformat_minor": 5
}

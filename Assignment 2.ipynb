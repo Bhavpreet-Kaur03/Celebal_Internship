{
 "cells": [
  {
   "cell_type": "code",
   "execution_count": 5,
   "id": "4fcf2bfc",
   "metadata": {},
   "outputs": [
    {
     "name": "stdout",
     "output_type": "stream",
     "text": [
      "Original list:\n",
      "10 -> 20 -> 30 -> 40 -> 50\n",
      "After deleting 3rd node:\n",
      "10 -> 20 -> 40 -> 50\n",
      "Error: Index out of range\n",
      "Error: Cannot delete from an empty list\n"
     ]
    }
   ],
   "source": [
    "class Node:\n",
    "    def __init__(self, data):\n",
    "        self.data = data\n",
    "        self.next = None\n",
    "\n",
    "class LinkedList:\n",
    "    def __init__(self):\n",
    "        self.head = None\n",
    "\n",
    "    def add_node(self, data):\n",
    "        new_node = Node(data)\n",
    "        if not self.head:\n",
    "            self.head = new_node\n",
    "            return\n",
    "        current = self.head\n",
    "        while current.next:\n",
    "            current = current.next\n",
    "        current.next = new_node\n",
    "\n",
    "    def print_list(self):\n",
    "        current = self.head\n",
    "        while current:\n",
    "            print(current.data, end=' -> ' if current.next else '\\n')\n",
    "            current = current.next\n",
    "\n",
    "    def delete_nth_node(self, n):\n",
    "        if not self.head:\n",
    "            raise Exception(\"Cannot delete from an empty list\")\n",
    "        if n <= 0:\n",
    "            raise Exception(\"Index must be a positive integer\")\n",
    "        if n == 1:\n",
    "            self.head = self.head.next\n",
    "            return\n",
    "        current = self.head\n",
    "        count = 1\n",
    "        while current and count < n - 1:\n",
    "            current = current.next\n",
    "            count += 1\n",
    "        if not current or not current.next:\n",
    "            raise Exception(\"Index out of range\")\n",
    "        current.next = current.next.next\n",
    "\n",
    "linked_list = LinkedList()\n",
    "linked_list.add_node(10)\n",
    "linked_list.add_node(20)\n",
    "linked_list.add_node(30)\n",
    "linked_list.add_node(40)\n",
    "linked_list.add_node(50)\n",
    "print(\"Original list:\")\n",
    "linked_list.print_list()\n",
    "linked_list.delete_nth_node(3)\n",
    "print(\"After deleting 3rd node:\")\n",
    "linked_list.print_list()\n",
    "\n",
    "try:\n",
    "    linked_list.delete_nth_node(10)\n",
    "except Exception as e:\n",
    "    print(\"Error:\", e)\n",
    "\n",
    "try:\n",
    "    empty_list = LinkedList()\n",
    "    empty_list.delete_nth_node(1)\n",
    "except Exception as e:\n",
    "    print(\"Error:\", e)"
   ]
  },
  {
   "cell_type": "code",
   "execution_count": null,
   "id": "91b603ae",
   "metadata": {},
   "outputs": [],
   "source": []
  }
 ],
 "metadata": {
  "kernelspec": {
   "display_name": "Python 3 (ipykernel)",
   "language": "python",
   "name": "python3"
  },
  "language_info": {
   "codemirror_mode": {
    "name": "ipython",
    "version": 3
   },
   "file_extension": ".py",
   "mimetype": "text/x-python",
   "name": "python",
   "nbconvert_exporter": "python",
   "pygments_lexer": "ipython3",
   "version": "3.11.4"
  }
 },
 "nbformat": 4,
 "nbformat_minor": 5
}
